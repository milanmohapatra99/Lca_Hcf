{
 "cells": [
  {
   "cell_type": "code",
   "execution_count": 1,
   "id": "ddfbf62a",
   "metadata": {},
   "outputs": [
    {
     "name": "stdout",
     "output_type": "stream",
     "text": [
      "Enter a string:-\n",
      "\t my name is milan mohapatra\n",
      "is\n",
      "milan\n",
      "mohapatra\n",
      "my\n",
      "name\n"
     ]
    }
   ],
   "source": [
    "# w.a.p to Sort Words in Alphabetic Order\n",
    "mystr = input(\"Enter a string:-\\n\\t \")  \n",
    "words = mystr.split()  \n",
    "words.sort()  \n",
    "for word in words:  \n",
    "    print(word)  "
   ]
  },
  {
   "cell_type": "code",
   "execution_count": 2,
   "id": "cf16a82b",
   "metadata": {},
   "outputs": [
    {
     "name": "stdout",
     "output_type": "stream",
     "text": [
      "Enter Your String:-bangtanboys\n",
      "The original string is:  bangtanboys\n",
      "The reverse string is syobnatgnab\n"
     ]
    }
   ],
   "source": [
    "# w.a.p to reverse a string \n",
    "def reverse_string(str):  \n",
    "    str1 = \"\"   \n",
    "    for i in str:  \n",
    "        str1 = i + str1  \n",
    "    return str1   \n",
    "     \n",
    "str = input(\"Enter Your String:-\")        \n",
    "print(\"The original string is: \",str)  \n",
    "print(\"The reverse string is\",reverse_string(str))"
   ]
  },
  {
   "cell_type": "code",
   "execution_count": 3,
   "id": "073da9bd",
   "metadata": {},
   "outputs": [
    {
     "name": "stdout",
     "output_type": "stream",
     "text": [
      "Current names List is: ['Jisoo', 'Lisa', 'Yoongi', 'Rose']\n",
      "Please enter a name:\n",
      "jenniii\n",
      "Updated name List is: ['Jisoo', 'Lisa', 'Yoongi', 'Rose', 'jenniii']\n"
     ]
    }
   ],
   "source": [
    "# w.a.p to append a string\n",
    "names = [\"Jisoo\", \"Lisa\", \"Yoongi\", \"Rose\"]  \n",
    "print('Current names List is:', names)  \n",
    "new_name = input(\"Please enter a name:\\n\")  \n",
    "names.append(new_name)    \n",
    "print('Updated name List is:', names)  "
   ]
  },
  {
   "cell_type": "code",
   "execution_count": null,
   "id": "a0132450",
   "metadata": {},
   "outputs": [],
   "source": []
  }
 ],
 "metadata": {
  "kernelspec": {
   "display_name": "Python 3 (ipykernel)",
   "language": "python",
   "name": "python3"
  },
  "language_info": {
   "codemirror_mode": {
    "name": "ipython",
    "version": 3
   },
   "file_extension": ".py",
   "mimetype": "text/x-python",
   "name": "python",
   "nbconvert_exporter": "python",
   "pygments_lexer": "ipython3",
   "version": "3.9.7"
  }
 },
 "nbformat": 4,
 "nbformat_minor": 5
}
